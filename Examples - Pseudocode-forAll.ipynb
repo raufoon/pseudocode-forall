{
 "cells": [
  {
   "cell_type": "markdown",
   "metadata": {
    "id": "GbCiOGTXT9bD"
   },
   "source": [
    "# Install"
   ]
  },
  {
   "cell_type": "code",
   "execution_count": null,
   "metadata": {
    "colab": {
     "base_uri": "https://localhost:8080/",
     "height": 652,
     "referenced_widgets": [
      "210fac01fa484b5db7f6c64e1a6ea670",
      "d11f2b78959c45238ba7c74ad347c925",
      "cdbaaa92fc454730bb0859da4fc01ab4",
      "f6296d6817794a5fb9eb25ad33ade84b",
      "74cf1fd2d83c4a3a9466fee383eb3bec",
      "ff07a6ac08874f7b8a14d4a34e5b891f",
      "f42f32d8e8c74ab797129c44a4d96c9d",
      "b9f49b3b9cd64aabbbc225a9f3c393b7",
      "666e4e6a042c4e7b8acefd0818be67cb",
      "0ed4abd21b08499daea54525974cc364",
      "78b3187758224b29903a1b8ce2b86bff"
     ]
    },
    "executionInfo": {
     "elapsed": 16798,
     "status": "ok",
     "timestamp": 1753038501968,
     "user": {
      "displayName": "Raufoon Shafiq",
      "userId": "09617392592691621003"
     },
     "user_tz": -360
    },
    "id": "15wxXlJC_Wdd",
    "outputId": "41b11c1d-bf48-46e5-a2c6-c284d838a43f"
   },
   "outputs": [],
   "source": [
    "!git clone https://github.com/raufoon/pseudocode-forall\n",
    "%run pseudocode-forall/setup.py"
   ]
  },
  {
   "cell_type": "markdown",
   "metadata": {
    "id": "aGTSr63joIYH"
   },
   "source": [
    "# Usage and Syntax"
   ]
  },
  {
   "cell_type": "markdown",
   "metadata": {
    "id": "RCuQFOrwW-N3"
   },
   "source": [
    "## Hello, world!"
   ]
  },
  {
   "cell_type": "code",
   "execution_count": null,
   "metadata": {
    "colab": {
     "base_uri": "https://localhost:8080/"
    },
    "executionInfo": {
     "elapsed": 1069,
     "status": "ok",
     "timestamp": 1753007211039,
     "user": {
      "displayName": "Raufoon Shafiq",
      "userId": "09617392592691621003"
     },
     "user_tz": -360
    },
    "id": "ONAvRHNY_IJ3",
    "outputId": "26fa9731-bd45-4e39-98ef-6c3bbda32096"
   },
   "outputs": [],
   "source": [
    "%%pseudocode\n",
    "OUTPUT \"Hello, world! This is from \", __version__, \" of Pseudocode-forAll.\""
   ]
  },
  {
   "cell_type": "code",
   "execution_count": null,
   "metadata": {
    "colab": {
     "base_uri": "https://localhost:8080/"
    },
    "executionInfo": {
     "elapsed": 931,
     "status": "ok",
     "timestamp": 1753007089520,
     "user": {
      "displayName": "Raufoon Shafiq",
      "userId": "09617392592691621003"
     },
     "user_tz": -360
    },
    "id": "dm3arLbBBcch",
    "outputId": "6b055403-358f-4e4c-8eff-6f65f6279ad0"
   },
   "outputs": [],
   "source": [
    "%%pseudocode\n",
    "OUTPUT \"Someone once confused \\\"your\\\" vs \\\"you're\\\"\"\n",
    "OUTPUT 'then it became \"everybody''s\" problem.'"
   ]
  },
  {
   "cell_type": "code",
   "execution_count": null,
   "metadata": {
    "colab": {
     "base_uri": "https://localhost:8080/"
    },
    "executionInfo": {
     "elapsed": 1253,
     "status": "ok",
     "timestamp": 1753007086667,
     "user": {
      "displayName": "Raufoon Shafiq",
      "userId": "09617392592691621003"
     },
     "user_tz": -360
    },
    "id": "V_DkZ1SUCk_s",
    "outputId": "15cc5db0-0a71-458f-bd47-ff8fe15c29a4"
   },
   "outputs": [],
   "source": [
    "%%pseudocode\n",
    "OUTPUT \"1/√2 is \", abs(sin(-pi/4)), '.'"
   ]
  },
  {
   "cell_type": "markdown",
   "metadata": {
    "id": "HobJTUn1XA_h"
   },
   "source": [
    "## Variables and Data Types"
   ]
  },
  {
   "cell_type": "code",
   "execution_count": null,
   "metadata": {
    "colab": {
     "base_uri": "https://localhost:8080/"
    },
    "executionInfo": {
     "elapsed": 911,
     "status": "ok",
     "timestamp": 1753010357669,
     "user": {
      "displayName": "Raufoon Shafiq",
      "userId": "09617392592691621003"
     },
     "user_tz": -360
    },
    "id": "letF-W6Agkc0",
    "outputId": "50bab7f6-0b79-422a-80a7-ddf632621ea1"
   },
   "outputs": [],
   "source": [
    "%%pseudocode\n",
    "DECLARE model_year: INTEGER\n",
    "DECLARE model_name: STRING\n",
    "DECLARE engine_capacity: REAL\n",
    "DECLARE is_fully_electric, is_hybrid: BOOLEAN\n",
    "DECLARE release_date, today_date: DATE\n",
    "\n",
    "release_date <- 15/03/2023\n",
    "today_date <- today\n",
    "\n",
    "model_year <- YearOf(release_date)\n",
    "model_name <- \"ElectroZoom X\"\n",
    "engine_capacity <- 2.75\n",
    "is_hybrid <- FALSE\n",
    "is_fully_electric <- Boolean(1) AND NOT is_hybrid\n",
    "\n",
    "OUTPUT model_year, ' ', model_name\n",
    "OUTPUT engine_capacity, 'L | Fully Electric: ', is_fully_electric\n",
    "OUTPUT \"Released On: \", release_date\n",
    "OUTPUT \"Today's date: \", today_date"
   ]
  },
  {
   "cell_type": "markdown",
   "metadata": {
    "id": "vmNzu7o0Z1VZ"
   },
   "source": [
    "## Input"
   ]
  },
  {
   "cell_type": "code",
   "execution_count": null,
   "metadata": {
    "colab": {
     "base_uri": "https://localhost:8080/"
    },
    "executionInfo": {
     "elapsed": 5897,
     "status": "ok",
     "timestamp": 1753009863921,
     "user": {
      "displayName": "Raufoon Shafiq",
      "userId": "09617392592691621003"
     },
     "user_tz": -360
    },
    "id": "--PpsuDugxft",
    "outputId": "110c8bdf-af16-4314-bcce-6843efe43de3"
   },
   "outputs": [],
   "source": [
    "%%pseudocode\n",
    "DECLARE name: STRING\n",
    "\n",
    "OUTPUT \"What is your name?\"\n",
    "INPUT name\n",
    "OUTPUT \"Hello, \", name,'!'"
   ]
  },
  {
   "cell_type": "code",
   "execution_count": null,
   "metadata": {
    "colab": {
     "base_uri": "https://localhost:8080/"
    },
    "executionInfo": {
     "elapsed": 12552,
     "status": "ok",
     "timestamp": 1753010286292,
     "user": {
      "displayName": "Raufoon Shafiq",
      "userId": "09617392592691621003"
     },
     "user_tz": -360
    },
    "id": "EfZStX4Vh8LZ",
    "outputId": "51453359-9ba8-4cc7-c67a-2a91dbb4787f"
   },
   "outputs": [],
   "source": [
    "%%pseudocode\n",
    "DECLARE phoneModel: STRING\n",
    "DECLARE phoneCost: FLOAT\n",
    "\n",
    "OUTPUT \"What model is your phone?\"\n",
    "INPUT phoneModel\n",
    "OUTPUT \"How much did it cost you in $?\"\n",
    "INPUT phoneCost\n",
    "OUTPUT \"Wow, your \", phoneModel, \" cost you \", phoneCost, \" dollars!\""
   ]
  },
  {
   "cell_type": "markdown",
   "metadata": {
    "id": "AjSDq_nukjbI"
   },
   "source": [
    "## Arrays"
   ]
  },
  {
   "cell_type": "markdown",
   "metadata": {
    "id": "p2zyFSHJloh4"
   },
   "source": [
    "**1D Array declaration.**"
   ]
  },
  {
   "cell_type": "code",
   "execution_count": null,
   "metadata": {
    "colab": {
     "base_uri": "https://localhost:8080/"
    },
    "executionInfo": {
     "elapsed": 984,
     "status": "ok",
     "timestamp": 1753010659258,
     "user": {
      "displayName": "Raufoon Shafiq",
      "userId": "09617392592691621003"
     },
     "user_tz": -360
    },
    "id": "BysXQtKRhDUv",
    "outputId": "075882ad-07f4-4f3d-9caf-9f0882fb97d1"
   },
   "outputs": [],
   "source": [
    "%%pseudocode\n",
    "DECLARE pets: ARRAY[1:3] OF STRING\n",
    "CONSTANT Npets = 3\n",
    "\n",
    "pets[1] <- \"dog\"\n",
    "pets[2] <- \"cat\"\n",
    "pets[3] <- \"bird\"\n",
    "\n",
    "OUTPUT pets[2]\n",
    "OUTPUT pets[3]\n",
    "OUTPUT pets[1]"
   ]
  },
  {
   "cell_type": "code",
   "execution_count": null,
   "metadata": {
    "colab": {
     "base_uri": "https://localhost:8080/"
    },
    "executionInfo": {
     "elapsed": 1226,
     "status": "ok",
     "timestamp": 1753016453442,
     "user": {
      "displayName": "Raufoon Shafiq",
      "userId": "09617392592691621003"
     },
     "user_tz": -360
    },
    "id": "OskHUkRQ7BO-",
    "outputId": "a5946fba-10cd-4e62-8a51-1ed6106e8df5"
   },
   "outputs": [],
   "source": [
    "%%pseudocode\n",
    "DECLARE pets: ARRAY[2:3] OF STRING\n",
    "\n",
    "pets[2] <- \"cat\"\n",
    "pets[3] <- \"bird\"\n",
    "\n",
    "OUTPUT pets[2]\n",
    "OUTPUT pets[3]"
   ]
  },
  {
   "cell_type": "markdown",
   "metadata": {
    "id": "sU2k2Z3IlwXu"
   },
   "source": [
    "**2D Array declaration.**"
   ]
  },
  {
   "cell_type": "code",
   "execution_count": null,
   "metadata": {
    "colab": {
     "base_uri": "https://localhost:8080/"
    },
    "executionInfo": {
     "elapsed": 834,
     "status": "ok",
     "timestamp": 1753010730876,
     "user": {
      "displayName": "Raufoon Shafiq",
      "userId": "09617392592691621003"
     },
     "user_tz": -360
    },
    "id": "g9KSE75xkg56",
    "outputId": "47f7546b-758d-4e5a-fc06-c2f89611efa7"
   },
   "outputs": [],
   "source": [
    "%%pseudocode\n",
    "DECLARE matrix: ARRAY[1:2, 1:3] OF INTEGER\n",
    "\n",
    "matrix[1, 1] <- 1\n",
    "matrix[1, 2] <- 0\n",
    "matrix[1, 3] <- -1\n",
    "matrix[2, 1] <- 0\n",
    "matrix[2, 2] <- 1\n",
    "matrix[2, 3] <- 0\n",
    "\n",
    "OUTPUT matrix[1, 1],' ', matrix[1, 2],' ', matrix[1, 3]\n",
    "OUTPUT matrix[2, 1],' ', matrix[2, 2],' ', matrix[2, 3]"
   ]
  },
  {
   "cell_type": "markdown",
   "metadata": {
    "id": "rdWIv9hzlblN"
   },
   "source": [
    "**Array declaration with index starting from zero.**"
   ]
  },
  {
   "cell_type": "code",
   "execution_count": null,
   "metadata": {
    "colab": {
     "base_uri": "https://localhost:8080/"
    },
    "executionInfo": {
     "elapsed": 1315,
     "status": "ok",
     "timestamp": 1753010926757,
     "user": {
      "displayName": "Raufoon Shafiq",
      "userId": "09617392592691621003"
     },
     "user_tz": -360
    },
    "id": "ZvZJiKdYlBYK",
    "outputId": "84e96cc4-6ea2-458e-9603-80d2fdb65f94"
   },
   "outputs": [],
   "source": [
    "%%pseudocode\n",
    "DECLARE matrix: ARRAY[0:1, 1:3] OF INTEGER\n",
    "\n",
    "matrix[0, 1] <- 1\n",
    "matrix[0, 2] <- 2\n",
    "matrix[0, 3] <- 3\n",
    "matrix[1, 1] <- 4\n",
    "matrix[1, 2] <- 5\n",
    "matrix[1, 3] <- 6\n",
    "\n",
    "OUTPUT matrix[0, 1], ' ', matrix[0, 2], ' ', matrix[0, 3]\n",
    "OUTPUT matrix[1, 1], ' ', matrix[1, 2], ' ', matrix[1, 3]"
   ]
  },
  {
   "cell_type": "markdown",
   "metadata": {
    "id": "PvtuWmZTpicb"
   },
   "source": [
    "## If-else and Case-of"
   ]
  },
  {
   "cell_type": "code",
   "execution_count": null,
   "metadata": {
    "colab": {
     "base_uri": "https://localhost:8080/"
    },
    "executionInfo": {
     "elapsed": 5256,
     "status": "ok",
     "timestamp": 1753016095078,
     "user": {
      "displayName": "Raufoon Shafiq",
      "userId": "09617392592691621003"
     },
     "user_tz": -360
    },
    "id": "c5Bhu4N1h4tE",
    "outputId": "27f73a60-c7f1-4947-d3c7-49ae621ef94c"
   },
   "outputs": [],
   "source": [
    "%%pseudocode\n",
    "DECLARE grade: INTEGER\n",
    "\n",
    "OUTPUT \"What is your grade?\"\n",
    "INPUT grade\n",
    "\n",
    "IF grade >= 86 AND grade <= 100 THEN\n",
    "  OUTPUT \"Grade is above 85.\"\n",
    "\n",
    "ELSE\n",
    "  IF grade >= 0 AND grade <= 85 THEN\n",
    "    OUTPUT \"Grade is 85 or below.\"\n",
    "\n",
    "    IF grade >= 70 AND grade <= 85 THEN\n",
    "      OUTPUT \"Performance: Average to Good.\"\n",
    "    ELSE\n",
    "      IF grade >= 50 AND grade <= 69\n",
    "        THEN\n",
    "          OUTPUT \"Performance: Needs Improvement.\"\n",
    "        ELSE\n",
    "          IF grade >= 0 AND grade <= 49 THEN\n",
    "            OUTPUT \"Performance: Failing.\"\n",
    "            OUTPUT \"Extra-hours needed.\"\n",
    "          ENDIF\n",
    "      ENDIF\n",
    "    ENDIF\n",
    "  ELSE\n",
    "    OUTPUT \"Invalid grade: \", grade\n",
    "    OUTPUT \"Grade should be between 0 and 100.\"\n",
    "  ENDIF\n",
    "\n",
    "ENDIF"
   ]
  },
  {
   "cell_type": "code",
   "execution_count": null,
   "metadata": {
    "colab": {
     "base_uri": "https://localhost:8080/"
    },
    "executionInfo": {
     "elapsed": 8399,
     "status": "ok",
     "timestamp": 1753014918508,
     "user": {
      "displayName": "Raufoon Shafiq",
      "userId": "09617392592691621003"
     },
     "user_tz": -360
    },
    "id": "EwIWz8wuBbX2",
    "outputId": "9f12235d-a440-4959-dd75-549c8072a603"
   },
   "outputs": [],
   "source": [
    "%%pseudocode\n",
    "DECLARE grade: INTEGER\n",
    "\n",
    "OUTPUT \"What is your grade?\"\n",
    "INPUT grade\n",
    "\n",
    "CASE OF grade\n",
    "  86 TO 100:\n",
    "    OUTPUT \"Grade is above 85.\"\n",
    "\n",
    "  0 TO 85:\n",
    "    OUTPUT \"Grade is 85 or below.\"\n",
    "\n",
    "    CASE OF grade\n",
    "      70 TO 85: OUTPUT \"Performance: Average to Good.\"\n",
    "      50 TO 69: OUTPUT \"Performance: Needs Improvement.\"\n",
    "      0 TO 49:  OUTPUT \"Performance: Failing.\"\n",
    "                OUTPUT \"Extra-hours needed.\"\n",
    "    ENDCASE\n",
    "\n",
    "  OTHERWISE:\n",
    "    OUTPUT \"Invalid grade: \", grade\n",
    "    OUTPUT \"Grade should be between 0 and 100.\"\n",
    "ENDCASE\n"
   ]
  },
  {
   "cell_type": "markdown",
   "metadata": {
    "id": "I2iV3xKdVgOS"
   },
   "source": [
    "## Loops, Strings"
   ]
  },
  {
   "cell_type": "code",
   "execution_count": null,
   "metadata": {
    "colab": {
     "base_uri": "https://localhost:8080/"
    },
    "executionInfo": {
     "elapsed": 1150,
     "status": "ok",
     "timestamp": 1753042213346,
     "user": {
      "displayName": "Raufoon Shafiq",
      "userId": "09617392592691621003"
     },
     "user_tz": -360
    },
    "id": "0wqkdUBvh8fG",
    "outputId": "87a4624f-5a43-4fcf-fa84-2abde0acfcdc"
   },
   "outputs": [],
   "source": [
    "%%pseudocode\n",
    "DECLARE x, y, z: INTEGER\n",
    "DECLARE text: STRING\n",
    "\n",
    "OUTPUT \"For-loop defaults to step 1 increments:\"\n",
    "FOR x <- 1 TO 5\n",
    "  OUTPUT x*x\n",
    "NEXT x\n",
    "OUTPUT \"\"\n",
    "\n",
    "OUTPUT \"For-loop with step 3 increments:\"\n",
    "FOR z <- -5 TO 5 STEP 3\n",
    "  OUTPUT z*2\n",
    "NEXT z\n",
    "OUTPUT \"\"\n",
    "\n",
    "OUTPUT \"For-loop with step -2 decrements:\"\n",
    "FOR y <- 5 DOWNTO -5 STEP -2\n",
    "  OUTPUT y\n",
    "NEXT y\n",
    "OUTPUT \"\"\n",
    "\n",
    "OUTPUT \"While-loop:\"\n",
    "text <- \"Hello\"\n",
    "WHILE text <> \"\"\n",
    "  OUTPUT text[1]\n",
    "  text <- RIGHT(text, LENGTH(text)-1)\n",
    "ENDWHILE\n",
    "OUTPUT \"\"\n",
    "\n",
    "OUTPUT \"Repeat-until:\"\n",
    "text <- \"World\"\n",
    "REPEAT\n",
    "  OUTPUT text[1]\n",
    "  text <- RIGHT(text, LENGTH(text)-1)\n",
    "UNTIL text=\"\""
   ]
  },
  {
   "cell_type": "markdown",
   "metadata": {
    "id": "d77RgKW6ZhIE"
   },
   "source": [
    "## Functions, Procedures, Byrefs"
   ]
  },
  {
   "cell_type": "code",
   "execution_count": null,
   "metadata": {
    "colab": {
     "base_uri": "https://localhost:8080/"
    },
    "executionInfo": {
     "elapsed": 1159,
     "status": "ok",
     "timestamp": 1753042279733,
     "user": {
      "displayName": "Raufoon Shafiq",
      "userId": "09617392592691621003"
     },
     "user_tz": -360
    },
    "id": "59LGfDmuhTPE",
    "outputId": "6c566c63-89b8-463d-bd2c-889bacb71bb9"
   },
   "outputs": [],
   "source": [
    "%%pseudocode\n",
    "PROCEDURE swap(BYREF a: STRING, b: STRING)\n",
    "  DECLARE temp: STRING\n",
    "  temp <- a\n",
    "  a <- b\n",
    "  b <- temp\n",
    "ENDPROCEDURE\n",
    "\n",
    "FUNCTION describe(c: STRING, d: STRING) RETURNS STRING\n",
    "  RETURN \"The cat has a \"&c&\" and the dog has a \"&d&\".\"\n",
    "ENDFUNCTION\n",
    "\n",
    "DECLARE cat, dog: STRING\n",
    "cat <- \"kitty\"\n",
    "dog <- \"puppy\"\n",
    "\n",
    "OUTPUT describe(cat, dog)\n",
    "CALL swap(cat, dog)\n",
    "OUTPUT describe(cat, dog)"
   ]
  },
  {
   "cell_type": "markdown",
   "metadata": {
    "id": "82ZeLUHrfq6a"
   },
   "source": [
    "## Bubble Sort"
   ]
  },
  {
   "cell_type": "code",
   "execution_count": null,
   "metadata": {
    "colab": {
     "base_uri": "https://localhost:8080/"
    },
    "executionInfo": {
     "elapsed": 1242,
     "status": "ok",
     "timestamp": 1753042629002,
     "user": {
      "displayName": "Raufoon Shafiq",
      "userId": "09617392592691621003"
     },
     "user_tz": -360
    },
    "id": "X3mpSXqxgHQA",
    "outputId": "0dd534c8-9b5f-4a05-e950-b499755332c5"
   },
   "outputs": [],
   "source": [
    "%%pseudocode\n",
    "PROCEDURE SWAP(BYREF a: INTEGER, BYREF b: INTEGER)\n",
    "  DECLARE temp: INTEGER\n",
    "  temp <- a\n",
    "  a <- b\n",
    "  b <- temp\n",
    "ENDPROCEDURE\n",
    "\n",
    "PROCEDURE BubbleSort(BYREF a[]: ARRAY OF INTEGER, BYVAL size: INTEGER)\n",
    "  DECLARE swapped: BOOLEAN\n",
    "  DECLARE i: INTEGER\n",
    "  DECLARE j: INTEGER\n",
    "  DECLARE k: INTEGER\n",
    "  swapped <- FALSE\n",
    "  FOR i <- 0 TO size-2\n",
    "    OUTPUT \"Round \", i+1,\" of swapping:\"\n",
    "    FOR j <- 0 TO size-2-i\n",
    "      IF a[j] < a[j+1] THEN\n",
    "        OUTPUT \"swapping \",a[j+1],' ', a[j]\n",
    "        SWAP(a[j], a[j+1])\n",
    "        swapped <- TRUE\n",
    "      ENDIF\n",
    "    NEXT j\n",
    "    IF swapped = FALSE THEN\n",
    "      BREAK\n",
    "    ENDIF\n",
    "    swapped <- FALSE\n",
    "    FOR k <- 0 TO size-1\n",
    "      OUTPUT a[k]\n",
    "    NEXT\n",
    "  ENDFOR\n",
    "ENDPROCEDURE\n",
    "\n",
    "DECLARE i: INTEGER\n",
    "\n",
    "CONSTANT size: INTEGER = 5\n",
    "DECLARE mylist: ARRAY[1:5] OF INTEGER = (63,94,13,74,23)\n",
    "\n",
    "OUTPUT \"Original List:\"\n",
    "FOR i <- 1 TO size\n",
    "  OUTPUT mylist[i]\n",
    "NEXT i\n",
    "CALL BubbleSort(mylist, size)\n",
    "OUTPUT \"Sorted List:\"\n",
    "FOR i <- 1 TO size\n",
    "  OUTPUT mylist[i]\n",
    "NEXT i"
   ]
  },
  {
   "cell_type": "markdown",
   "metadata": {
    "id": "LCWdJ56ggw0i"
   },
   "source": [
    "## File Handling"
   ]
  },
  {
   "cell_type": "code",
   "execution_count": null,
   "metadata": {
    "colab": {
     "base_uri": "https://localhost:8080/"
    },
    "executionInfo": {
     "elapsed": 791,
     "status": "ok",
     "timestamp": 1753043028750,
     "user": {
      "displayName": "Raufoon Shafiq",
      "userId": "09617392592691621003"
     },
     "user_tz": -360
    },
    "id": "BYY3ytm7htON",
    "outputId": "abcf04b5-782d-48e7-e695-f44114e564b3"
   },
   "outputs": [],
   "source": [
    "%%pseudocode\n",
    "DECLARE TextLine: STRING\n",
    "\n",
    "OPENFILE \"MyFile.txt\" FOR WRITE\n",
    "WRITEFILE \"MyFile.txt\", \"Hello\"\n",
    "WRITEFILE \"MyFile.txt\", \"World\"\n",
    "CLOSEFILE \"MyFile.txt\"\n",
    "\n",
    "OPENFILE \"MyFile.txt\" FOR APPEND\n",
    "WRITEFILE \"MyFile.txt\", \"Hello Again\"\n",
    "CLOSEFILE \"MyFile.txt\"\n",
    "\n",
    "OPENFILE \"MyFile.txt\" FOR READ\n",
    "OUTPUT 'The file contains these lines of texts:'\n",
    "WHILE NOT EOF(\"MyFile.txt\")\n",
    "  READFILE \"MyFile.txt\", TextLine\n",
    "  OUTPUT TextLine\n",
    "ENDWHILE\n",
    "CLOSEFILE \"MyFile.txt\""
   ]
  },
  {
   "cell_type": "markdown",
   "metadata": {
    "id": "Fz5pjmOyjlmE"
   },
   "source": [
    "## Records"
   ]
  },
  {
   "cell_type": "code",
   "execution_count": null,
   "metadata": {
    "colab": {
     "base_uri": "https://localhost:8080/"
    },
    "executionInfo": {
     "elapsed": 1037,
     "status": "ok",
     "timestamp": 1753043749431,
     "user": {
      "displayName": "Raufoon Shafiq",
      "userId": "09617392592691621003"
     },
     "user_tz": -360
    },
    "id": "8GHns8mKhhUg",
    "outputId": "6d355ac9-b2d1-4d4a-fe22-69d65e50297e"
   },
   "outputs": [],
   "source": [
    "%%pseudocode\n",
    "TYPE Player\n",
    "  DECLARE Name: STRING\n",
    "  DECLARE Health: INTEGER\n",
    "ENDTYPE\n",
    "\n",
    "DECLARE p1: Player\n",
    "DECLARE p2: Player\n",
    "\n",
    "p1.Name <- \"Alice\"\n",
    "p1.Health <- 100\n",
    "\n",
    "p2 <- p1\n",
    "\n",
    "OUTPUT \"Player Name: \", p2.Name\n",
    "OUTPUT \"Player Health: \", p2.Health"
   ]
  },
  {
   "cell_type": "markdown",
   "metadata": {
    "id": "duG7sUJe50z8"
   },
   "source": [
    "# *Unsorted* Examples"
   ]
  },
  {
   "cell_type": "code",
   "execution_count": null,
   "metadata": {
    "colab": {
     "base_uri": "https://localhost:8080/"
    },
    "executionInfo": {
     "elapsed": 814,
     "status": "ok",
     "timestamp": 1752888802324,
     "user": {
      "displayName": "Raufoon Shafiq",
      "userId": "09617392592691621003"
     },
     "user_tz": -360
    },
    "id": "TH7z2U4mh_dv",
    "outputId": "a06ec762-fb49-4c34-8e13-091b7ac0d5de"
   },
   "outputs": [],
   "source": [
    "#while_loop_test\n",
    "%%pseudocode while_loop.pseudo\n",
    "\n",
    "DECLARE x: INTEGER\n",
    "\n",
    "x<- 1\n",
    "WHILE (x<10) and (not (x>50))\n",
    "  x<-x+5\n",
    "  OUTPUT x\n",
    "  x <- x-3\n",
    "  WHILE x < 5\n",
    "  DO\n",
    "    OUTPUT x\n",
    "    x <- x+1\n",
    "  ENDWHILE\n",
    "ENDWHILE"
   ]
  },
  {
   "cell_type": "code",
   "execution_count": null,
   "metadata": {
    "colab": {
     "base_uri": "https://localhost:8080/"
    },
    "executionInfo": {
     "elapsed": 847,
     "status": "ok",
     "timestamp": 1752888803174,
     "user": {
      "displayName": "Raufoon Shafiq",
      "userId": "09617392592691621003"
     },
     "user_tz": -360
    },
    "id": "XTHHcVr0Nl9F",
    "outputId": "85624bfd-3dec-4433-d4f3-b53472625381"
   },
   "outputs": [],
   "source": [
    "#while_loop_test_0.7+\n",
    "%%pseudocode while_loop.pseudo\n",
    "\n",
    "DECLARE x: INTEGER\n",
    "\n",
    "x<- 1\n",
    "WHILE x<10 and not x>50\n",
    "  x<-x+5\n",
    "  OUTPUT x\n",
    "  x <- x-3\n",
    "  WHILE x < 5\n",
    "  DO\n",
    "    OUTPUT x\n",
    "    x <- x+1\n",
    "  ENDWHILE\n",
    "ENDWHILE"
   ]
  },
  {
   "cell_type": "code",
   "execution_count": null,
   "metadata": {
    "colab": {
     "base_uri": "https://localhost:8080/"
    },
    "executionInfo": {
     "elapsed": 1033,
     "status": "ok",
     "timestamp": 1753041618027,
     "user": {
      "displayName": "Raufoon Shafiq",
      "userId": "09617392592691621003"
     },
     "user_tz": -360
    },
    "id": "yaMb0zkYiC8w",
    "outputId": "a7115910-0984-436d-e232-4422d6abfa58"
   },
   "outputs": [],
   "source": [
    "#repeat_until_test\n",
    "%%pseudocode repeat_until.pseudo\n",
    "\n",
    "DECLARE i: INTEGER\n",
    "i<-0\n",
    "repeat\n",
    "  if i mod 3 = 0 then\n",
    "    OUTPUT 'Hello', i\n",
    "  endif\n",
    "  i<-i+1\n",
    "until i=10 or TRUE"
   ]
  },
  {
   "cell_type": "code",
   "execution_count": null,
   "metadata": {
    "colab": {
     "base_uri": "https://localhost:8080/"
    },
    "executionInfo": {
     "elapsed": 815,
     "status": "ok",
     "timestamp": 1752888804826,
     "user": {
      "displayName": "Raufoon Shafiq",
      "userId": "09617392592691621003"
     },
     "user_tz": -360
    },
    "id": "Rvf_tsXRNcC-",
    "outputId": "77e5cf75-3a0f-4853-bd39-90847f54313f"
   },
   "outputs": [],
   "source": [
    "#repeat_until_test_0.7+\n",
    "%%pseudocode repeat_until.pseudo\n",
    "\n",
    "DECLARE i: INTEGER\n",
    "i <- 0\n",
    "repeat\n",
    "  if i mod 3 = 0 then\n",
    "    OUTPUT 'Hello', i\n",
    "  endif\n",
    "  i<-i+1\n",
    "until i=10 or TRUE"
   ]
  },
  {
   "cell_type": "code",
   "execution_count": null,
   "metadata": {
    "colab": {
     "base_uri": "https://localhost:8080/"
    },
    "executionInfo": {
     "elapsed": 795,
     "status": "ok",
     "timestamp": 1752888805623,
     "user": {
      "displayName": "Raufoon Shafiq",
      "userId": "09617392592691621003"
     },
     "user_tz": -360
    },
    "id": "A-eh5aZfg7FF",
    "outputId": "ddf2e686-ffa5-4a89-c694-d9722a6edebf"
   },
   "outputs": [],
   "source": [
    "#function_test\n",
    "%%pseudocode function_test.pseudo\n",
    "\n",
    "FUNCTION getvalue(alt: STRING=\"\") RETURNS STRING\n",
    "  IF alt = \"\" THEN\n",
    "    RETURN \"Hello!\"\n",
    "  ELSE\n",
    "    RETURN alt\n",
    "  ENDIF\n",
    "ENDFUNCTION\n",
    "\n",
    "FUNCTION add(a: INTEGER,\n",
    "             b: INTEGER) RETURNS INTEGER\n",
    "  RETURN a + b\n",
    "ENDFUNCTION\n",
    "\n",
    "OUTPUT getvalue(\"Byo\"), ' ', getvalue()\n",
    "OUTPUT add(5, 3)"
   ]
  },
  {
   "cell_type": "code",
   "execution_count": null,
   "metadata": {
    "colab": {
     "base_uri": "https://localhost:8080/"
    },
    "executionInfo": {
     "elapsed": 832,
     "status": "ok",
     "timestamp": 1752888806458,
     "user": {
      "displayName": "Raufoon Shafiq",
      "userId": "09617392592691621003"
     },
     "user_tz": -360
    },
    "id": "qKb1RmiRaMEP",
    "outputId": "4959b5d6-813c-4d04-ed21-9e017a3a3a15"
   },
   "outputs": [],
   "source": [
    "#function_overloading\n",
    "%%pseudocode\n",
    "\n",
    "PROCEDURE show(i: INTEGER) OVERLOAD\n",
    "  OUTPUT \"A wild integer appeared: \", i\n",
    "ENDPROCEDURE\n",
    "\n",
    "PROCEDURE show(f: REAL) OVERLOAD\n",
    "  CONSTANT val:REAL = 0.000000005\n",
    "  OUTPUT \"A wild real number appeared: \", f+val\n",
    "ENDPROCEDURE\n",
    "\n",
    "show(int(rand(20)))\n",
    "show(pi)"
   ]
  },
  {
   "cell_type": "code",
   "execution_count": null,
   "metadata": {
    "colab": {
     "base_uri": "https://localhost:8080/"
    },
    "executionInfo": {
     "elapsed": 831,
     "status": "ok",
     "timestamp": 1752888807293,
     "user": {
      "displayName": "Raufoon Shafiq",
      "userId": "09617392592691621003"
     },
     "user_tz": -360
    },
    "id": "UbcM74YjhBWV",
    "outputId": "eac79536-5832-4248-cdc4-42e3a163fdbc"
   },
   "outputs": [],
   "source": [
    "#simple_procedure_test\n",
    "%%pseudocode procedure_test.pseudo\n",
    "\n",
    "PROCEDURE getvalue(alt: STRING=\"\")\n",
    "  IF alt = \"\" THEN\n",
    "    OUTPUT \"Hello!\"\n",
    "  ELSE\n",
    "    OUTPUT alt\n",
    "  ENDIF\n",
    "ENDPROCEDURE\n",
    "\n",
    "PROCEDURE sum(a: INTEGER, b: INTEGER)\n",
    "  OUTPUT a + b\n",
    "ENDPROCEDURE\n",
    "\n",
    "call getvalue(\"Byo\")\n",
    "call getvalue\n",
    "call sum(5, 3)"
   ]
  },
  {
   "cell_type": "code",
   "execution_count": null,
   "metadata": {
    "colab": {
     "base_uri": "https://localhost:8080/"
    },
    "executionInfo": {
     "elapsed": 799,
     "status": "ok",
     "timestamp": 1752888809122,
     "user": {
      "displayName": "Raufoon Shafiq",
      "userId": "09617392592691621003"
     },
     "user_tz": -360
    },
    "id": "HQnqTXaphXq6",
    "outputId": "b28a85d3-063c-4622-91ee-93255d20a872"
   },
   "outputs": [],
   "source": [
    "#pointers_full_test\n",
    "%%pseudocode pointers_full.pseudo\n",
    "\n",
    "DECLARE x: INTEGER\n",
    "DECLARE xptr: ^INTEGER\n",
    "\n",
    "TYPE INTPTR = ^INTEGER\n",
    "DECLARE xptr2: INTPTR\n",
    "\n",
    "TYPE STRINGPTR = ^STRING\n",
    "DECLARE y: STRING\n",
    "CONSTANT yptr: STRINGPTR = ^y\n",
    "DECLARE yptr2: STRINGPTR\n",
    "DECLARE z: STRING\n",
    "\n",
    "PROCEDURE SETINTPTR(BYREF ptrvar: INTPTR; BYVAL address: POINTER)\n",
    "  ptrvar <- address\n",
    "ENDPROCEDURE\n",
    "\n",
    "PROCEDURE SETSTRINGPTR(BYREF ptrvar: STRINGPTR; BYVAL address: POINTER)\n",
    "  ptrvar <- address\n",
    "ENDPROCEDURE\n",
    "\n",
    "x <- 5\n",
    "xptr <- (^x) # ( := <- CONST * = ,\n",
    "xptr^ <- 10\n",
    "OUTPUT xptr^, ' ', x\n",
    "\n",
    "SETINTPTR(xptr2, ^x)\n",
    "OUTPUT xptr2^, ' ', x\n",
    "\n",
    "y <- \"Hello\"\n",
    "yptr2 <- ^y # should be @y\n",
    "yptr^ <- \"World\"\n",
    "OUTPUT yptr^, ' ', yptr2^, ' ', y\n",
    "\n",
    "z <- \"Goodbye\"\n",
    "SETSTRINGPTR(yptr, ^z)\n",
    "OUTPUT yptr^, ' ', y"
   ]
  },
  {
   "cell_type": "code",
   "execution_count": null,
   "metadata": {
    "colab": {
     "base_uri": "https://localhost:8080/"
    },
    "executionInfo": {
     "elapsed": 1201,
     "status": "ok",
     "timestamp": 1752888810324,
     "user": {
      "displayName": "Raufoon Shafiq",
      "userId": "09617392592691621003"
     },
     "user_tz": -360
    },
    "id": "qtPRowVAhfHq",
    "outputId": "e1002728-b3f1-4925-8882-ddec700291bd"
   },
   "outputs": [],
   "source": [
    "#enum_test ❕\n",
    "%%pseudocode enum.pseudo\n",
    "-full\n",
    "//IMPORT TypInfo #Importing Pascal Libraries is allowed\n",
    "\n",
    "DECLARE colorint: INTEGER\n",
    "TYPE color = (Red, Blue, Green)\n",
    "\n",
    "colorint <- 1\n",
    "OUTPUT 'My favorite color is ', color(colorint),'.'\n",
    "\n",
    "TYPE day = (Sunday, Monday, Tuesday, Wednesday, Thursday, Friday, Saturday)\n",
    "DECLARE a_day: day\n",
    "\n",
    "OUTPUT 'Today is ', day(5),'.'\n",
    "\n",
    "FOR a_day <- Sunday TO Saturday\n",
    "  OUTPUT \"Day \", ord(a_day)+1 ,\" is \", a_day,' and its code is '&UCASE(GetEnumName(TypeInfo(day), Ord(a_day))[1])&'.'\n",
    "NEXT a_day\n"
   ]
  },
  {
   "cell_type": "code",
   "execution_count": null,
   "metadata": {
    "colab": {
     "base_uri": "https://localhost:8080/"
    },
    "executionInfo": {
     "elapsed": 1468,
     "status": "ok",
     "timestamp": 1752888811798,
     "user": {
      "displayName": "Raufoon Shafiq",
      "userId": "09617392592691621003"
     },
     "user_tz": -360
    },
    "id": "YQRo3553WwqB",
    "outputId": "69a6b442-d9c0-4889-ce91-02a501dde2f4"
   },
   "outputs": [],
   "source": [
    "#enum_pointer_test ☑️\n",
    "%%pseudocode enum_pointer_test.pseudo\n",
    "TYPE Season = (Spring, Summer, Autumn, Winter)\n",
    "TYPE TIntPointer = ^INTEGER\n",
    "DECLARE ThisSeason : Season\n",
    "DECLARE NextSeason : Season\n",
    "DECLARE MyInt: INTEGER\n",
    "DECLARE MyPointer : TIntPointer\n",
    "ThisSeason <- Summer\n",
    "MyPointer <- ^ThisSeason\n",
    "NextSeason <- Season(MyPointer^ + 1)\n",
    "MyInt <- INTEGER(NextSeason)\n",
    "OUTPUT NextSeason, \" \", MyInt"
   ]
  },
  {
   "cell_type": "code",
   "execution_count": null,
   "metadata": {
    "colab": {
     "base_uri": "https://localhost:8080/"
    },
    "executionInfo": {
     "elapsed": 792,
     "status": "ok",
     "timestamp": 1752888812593,
     "user": {
      "displayName": "Raufoon Shafiq",
      "userId": "09617392592691621003"
     },
     "user_tz": -360
    },
    "id": "1EzoYmqnjQSn",
    "outputId": "c93b47df-2c9d-4ab3-d37f-f9337a57d639"
   },
   "outputs": [],
   "source": [
    "#sets_of\n",
    "%%pseudocode\n",
    "-full\n",
    "TYPE LetterSet = SET OF CHAR\n",
    "# type LetterSet = set of Char;\n",
    "DEFINE Vowels ('A','E','I','O','U'): LetterSet\n",
    "# const Vowels: LetterSet = ['A', 'E', 'I', 'O', 'U'];\n",
    "\n",
    "DECLARE Ch: Char\n",
    "DECLARE UCh: Char\n",
    "DECLARE word: STRING\n",
    "DECLARE i: INTEGER\n",
    "#INPUT Ch\n",
    "word <- \"Hello\"\n",
    "for i <- 1 to length(word)\n",
    "  Ch <- word[i]\n",
    "  UCh <- UCASE(Ch)\n",
    "  if UCh in Vowels then\n",
    "    OUTPUT \"'\", Ch, \"' is a vowel.\"\n",
    "  else\n",
    "    OUTPUT \"'\", Ch, \"' is not a vowel.\"\n",
    "  endif\n",
    "next i\n"
   ]
  },
  {
   "cell_type": "code",
   "execution_count": null,
   "metadata": {
    "colab": {
     "base_uri": "https://localhost:8080/"
    },
    "executionInfo": {
     "elapsed": 1030,
     "status": "ok",
     "timestamp": 1752888815271,
     "user": {
      "displayName": "Raufoon Shafiq",
      "userId": "09617392592691621003"
     },
     "user_tz": -360
    },
    "id": "XK-uVIFJFfIt",
    "outputId": "f9039f89-254c-442f-8f7c-26a54edc44b6"
   },
   "outputs": [],
   "source": [
    "#string_and_other_operations\n",
    "%%pseudocode string_and_other_operations.pseudo\n",
    "\n",
    "\n",
    "OUTPUT \"Hello\" & UPPERCASE(\", world! \"), length(\"hello\"), ' ' , substring(\"hello\", strtoint(inttostr(2)), INTEGER(\"3\")+1), ' ', INT(RAND(LENGTH(\"hello\")-1)), ' ', strtofloat(\"3.14\")"
   ]
  },
  {
   "cell_type": "code",
   "execution_count": null,
   "metadata": {
    "colab": {
     "base_uri": "https://localhost:8080/"
    },
    "executionInfo": {
     "elapsed": 919,
     "status": "ok",
     "timestamp": 1752888816193,
     "user": {
      "displayName": "Raufoon Shafiq",
      "userId": "09617392592691621003"
     },
     "user_tz": -360
    },
    "id": "kAuzQG0BiUl-",
    "outputId": "38abb786-fd0b-4997-9fb7-6d56458bbd16"
   },
   "outputs": [],
   "source": [
    "#record_file_handling ❕\n",
    "%%pseudocode record_file_handling.pseudo\n",
    "\n",
    "type TMyRecord\n",
    "  declare ID: Integer\n",
    "  declare Name: String[20]\n",
    "  declare Value: Double\n",
    "endtype\n",
    "\n",
    "declare Rec: TMyRecord\n",
    "declare FileName: String\n",
    "\n",
    "FileName <- 'data.dat'\n",
    "OpenFile FileName for Random sizeof(rec) Each\n",
    "\n",
    "Rec.ID <- 1\n",
    "Rec.Name <- 'Batu'\n",
    "Rec.Value <- 42.0\n",
    "putrecord Filename, Rec\n",
    "\n",
    "Rec.ID <- 2\n",
    "Rec.Name <- 'Alice'\n",
    "Rec.Value <- 27.5\n",
    "putrecord Filename, Rec\n",
    "\n",
    "Rec.ID <- 3\n",
    "Rec.Name <- 'Bob'\n",
    "Rec.Value <- 35.1\n",
    "putrecord Filename, Rec\n",
    "\n",
    "Rec.ID <- 4\n",
    "Rec.Name <- 'Charlie'\n",
    "Rec.Value <- 50.7\n",
    "putrecord Filename, Rec\n",
    "CloseFile FileName\n",
    "\n",
    "OpenFile FileName for Random sizeof(rec) Each\n",
    "getrecord Filename, Rec\n",
    "output 'Record - ID: ', Rec.ID, ', Name: ', Rec.Name, ', Value: ', Rec.Value\n",
    "getrecord Filename, Rec\n",
    "output 'Record - ID: ', Rec.ID, ', Name: ', Rec.Name, ', Value: ', Rec.Value\n",
    "getrecord Filename, Rec\n",
    "output 'Record - ID: ', Rec.ID, ', Name: ', Rec.Name, ', Value: ', Rec.Value\n",
    "getrecord Filename, Rec\n",
    "output 'Record - ID: ', Rec.ID, ', Name: ', Rec.Name, ', Value: ', Rec.Value\n",
    "\n",
    "Seek Filename, 1\n",
    "Rec.ID <- 2\n",
    "Rec.Name <- 'David'\n",
    "Rec.Value <- 60.3\n",
    "putrecord Filename, Rec\n",
    "CloseFile FileName\n",
    "\n",
    "OpenFile FileName for Random sizeof(rec) Each\n",
    "\n",
    "Seek Filename,1\n",
    "getrecord Filename, Rec\n",
    "output 'Record - ID: ', Rec.ID, ', Name: ', Rec.Name, ', Value: ', Rec.Value\n",
    "\n",
    "Seek Filename,3\n",
    "getrecord Filename, Rec\n",
    "output 'Record - ID: ', Rec.ID, ', Name: ', Rec.Name, ', Value: ', Rec.Value\n",
    "CloseFile FileName"
   ]
  },
  {
   "cell_type": "code",
   "execution_count": null,
   "metadata": {
    "colab": {
     "base_uri": "https://localhost:8080/"
    },
    "executionInfo": {
     "elapsed": 850,
     "status": "ok",
     "timestamp": 1752888817059,
     "user": {
      "displayName": "Raufoon Shafiq",
      "userId": "09617392592691621003"
     },
     "user_tz": -360
    },
    "id": "BocYpHsQiZjC",
    "outputId": "5ad700c2-3505-4f5f-c2d8-dab32074787b"
   },
   "outputs": [],
   "source": [
    "#class_constructor_inheritance_test ❕\n",
    "%%pseudocode class_constructor_inheritance.pseudo\n",
    "//\n",
    "CLASS Pet\n",
    "   PRIVATE Name : STRING\n",
    "   PUBLIC PROCEDURE NEW(GivenName : STRING)\n",
    "      Name <- GivenName\n",
    "   ENDPROCEDURE\n",
    "   PUBLIC PROCEDURE Show()\n",
    "      OUTPUT Name\n",
    "   ENDPROCEDURE\n",
    "ENDCLASS\n",
    "\n",
    "CLASS Cat INHERITS Pet\n",
    "   PRIVATE Breed: STRING\n",
    "   PUBLIC PROCEDURE NEW(GivenName : STRING, GivenBreed : STRING)\n",
    "      CALL SUPER.NEW(GivenName)\n",
    "      Breed <- GivenBreed\n",
    "   ENDPROCEDURE\n",
    "   PUBLIC PROCEDURE Show()\n",
    "      CALL SUPER.Show()\n",
    "      OUTPUT Breed\n",
    "   ENDPROCEDURE\n",
    "ENDCLASS\n",
    "\n",
    "DECLARE MyCat : Cat\n",
    "\n",
    "MyCat ← NEW Cat(\"Kitty\", \"Shorthaired\")\n",
    "CALL MyCat.show()\n",
    "\n",
    "OUTPUT MyCat.Name, ' ', MyCat.Breed,' '"
   ]
  },
  {
   "cell_type": "code",
   "execution_count": null,
   "metadata": {
    "id": "CnmBmmHPjppE"
   },
   "outputs": [],
   "source": [
    "#pseudocode_cli_program\n",
    "%%pseudocode heyB.pseudo\n",
    "--no-run\n",
    "\n",
    "declare Name: string;\n",
    "\n",
    "if ParamCount > 0 then\n",
    "    Name := ParamStr(1);\n",
    "else\n",
    "    output 'Enter your name: '\n",
    "    input Name\n",
    "endif\n",
    "\n",
    "output 'Hey, ', Name, '!'"
   ]
  },
  {
   "cell_type": "code",
   "execution_count": null,
   "metadata": {
    "colab": {
     "base_uri": "https://localhost:8080/"
    },
    "executionInfo": {
     "elapsed": 82,
     "status": "ok",
     "timestamp": 1752888817838,
     "user": {
      "displayName": "Raufoon Shafiq",
      "userId": "09617392592691621003"
     },
     "user_tz": -360
    },
    "id": "qz7rNTbnjtu0",
    "outputId": "e41f857b-95e0-488f-ab5f-d3c9b0f0a728"
   },
   "outputs": [],
   "source": [
    "!./heyB Me"
   ]
  }
 ],
 "metadata": {
  "colab": {
   "authorship_tag": "ABX9TyN1bgzCEHD08kbPqGUGlg0/",
   "provenance": [
    {
     "file_id": "1XSZvqdGU4_8_XUNE60y-8AhDwa_AxD-2",
     "timestamp": 1752999296917
    },
    {
     "file_id": "1nSV46rKmt791WBQzkaDBNx6_Dwu2M-R1",
     "timestamp": 1752883676449
    },
    {
     "file_id": "1ULLMzDMB3X5tTH0ZBW3RVIMMVOmsKXfu",
     "timestamp": 1736301710838
    },
    {
     "file_id": "1LQ_ZR1V82TmUZ9wnytQOUEz6n64K-4jO",
     "timestamp": 1735809486673
    },
    {
     "file_id": "1rVc4YctYf3pQ1Ylg8OMKpgzjejTYKBLF",
     "timestamp": 1735667858955
    },
    {
     "file_id": "1mdOh8f5wlTHjdz4Ibq11ebDQZSMOBuCH",
     "timestamp": 1735523668207
    },
    {
     "file_id": "1ENDTeP_MXnbaKIbA1dMsw-SOn5VQqy0w",
     "timestamp": 1735293307549
    }
   ],
   "toc_visible": true
  },
  "kernelspec": {
   "display_name": "Python 3 (ipykernel)",
   "language": "python",
   "name": "python3"
  },
  "language_info": {
   "codemirror_mode": {
    "name": "ipython",
    "version": 3
   },
   "file_extension": ".py",
   "mimetype": "text/x-python",
   "name": "python",
   "nbconvert_exporter": "python",
   "pygments_lexer": "ipython3",
   "version": "3.13.0"
  }
 },
 "nbformat": 4,
 "nbformat_minor": 0
}
